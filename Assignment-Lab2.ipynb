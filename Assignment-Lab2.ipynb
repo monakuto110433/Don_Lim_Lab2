{
 "cells": [
  {
   "cell_type": "markdown",
   "metadata": {},
   "source": [
    "# Quiz 1\n",
    "# Name: \n",
    "\n",
    "Don Lim  \n",
    "192877  \n",
    "2 BS ME"
   ]
  },
  {
   "cell_type": "markdown",
   "metadata": {},
   "source": [
    "# 1A\n",
    "# Rectangle\n",
    "## 2 points\n",
    "\n",
    "(int, int) -> None\n",
    "    \n",
    "This function prints a solid rectangle composed of asterisks (\"*\").  \n",
    "This rectangle should be of the specified width and the specified height.  \n",
    "This function does not return any value; it simply prints the rectangle string."
   ]
  },
  {
   "cell_type": "code",
   "execution_count": 43,
   "metadata": {
    "scrolled": false
   },
   "outputs": [
    {
     "name": "stdout",
     "output_type": "stream",
     "text": [
      "Enter width:5\n",
      "Enter height:6\n",
      "*****\n",
      "*****\n",
      "*****\n",
      "*****\n",
      "*****\n",
      "*****\n",
      "\n"
     ]
    }
   ],
   "source": [
    "# GRADED FUNCTION\n",
    "def print_rectangle(width, height):\n",
    "    counter1=0\n",
    "    rectangle_string = \"\"\n",
    "    while(counter1<height):\n",
    "        counter2=0\n",
    "        while(counter2<width):\n",
    "            rectangle_string = rectangle_string + \"*\" \n",
    "            counter2 += 1\n",
    "        rectangle_string = rectangle_string + \"\\n\"\n",
    "        counter1 += 1 \n",
    "    print(rectangle_string)\n",
    "\n",
    "width = int(input(\"Enter width:\"))\n",
    "height = int(input(\"Enter height:\"))\n",
    "print_rectangle(width,height)"
   ]
  },
  {
   "cell_type": "markdown",
   "metadata": {},
   "source": [
    "# 1B\n",
    "# Hollow Rectangle\n",
    "## 3 points\n",
    "\n",
    "(int, int) -> None\n",
    "    \n",
    "This function prints a hollow rectangle composed of asterisks \\(\\*).  \n",
    "The borders of this rectangle are composed of asterisks (\\\"\\*\\\").  \n",
    "The insides of this rectangle are composed of spaces (\" \").  \n",
    "This rectangle should be of the specified width and the specified height.  \n",
    "This function does not return any value; it simply prints the rectangle string.  "
   ]
  },
  {
   "cell_type": "code",
   "execution_count": 17,
   "metadata": {},
   "outputs": [
    {
     "name": "stdout",
     "output_type": "stream",
     "text": [
      "Enter width:7\n",
      "Enter height:5\n",
      "*******\n",
      "*     *\n",
      "*     *\n",
      "*     *\n",
      "*******\n",
      "\n"
     ]
    }
   ],
   "source": [
    "# GRADED FUNCTION\n",
    "def print_hollow_rectangle(width, height):\n",
    "    rectangle_string=\"\"\n",
    "    for counter1 in range(1,height+1):\n",
    "        counter2 = 1\n",
    "        if(counter1 == 1 or counter1 == height):\n",
    "            for counter2 in range(1,width+1):\n",
    "                rectangle_string = rectangle_string + \"*\"\n",
    "        else:\n",
    "            for counter2 in range(1,width+1):\n",
    "                if(counter2 == 1 or counter2 == width):\n",
    "                    rectangle_string = rectangle_string + \"*\"\n",
    "                else:\n",
    "                    rectangle_string = rectangle_string + \" \"\n",
    "        rectangle_string = rectangle_string + \"\\n\"    \n",
    "    print(rectangle_string)\n",
    "    \n",
    "width=int(input(\"Enter width:\"))\n",
    "height=int(input(\"Enter height:\"))\n",
    "print_hollow_rectangle(width,height)"
   ]
  },
  {
   "cell_type": "markdown",
   "metadata": {},
   "source": [
    "# 2\n",
    "# Caesar Cipher\n",
    "## 4 points\n",
    "(str, int) -> str\n",
    "    \n",
    "This function encrypts a message using the Caesar cipher method.  \n",
    "The Caesar cipher \"shifts\" each letter in a message to the right by a specified number.\n",
    "\n",
    "For example:\n",
    "\n",
    "encrypt('ABC', 2) -> 'CDE'\n",
    "\n",
    "In terms of ordinal positions in the alphabet, 'A' is 0, 'B' is 1, and 'C' is 2.  \n",
    "Add the specified number to each of these values to receive 0 + 2 = 2, 2 + 2 = 4, and 3 + 2 = 5.  \n",
    "Converting back to letters from numbers: 2 is 'C', 3 is 'D', and 4 is 'E'.\n",
    "\n",
    "Another example:\n",
    "\n",
    "encrypt('XYZ', 2) -> 'ZAB'\n",
    "\n",
    "In terms of ordinal positions in the alphabet, 'X' is 23, 'Y' is 24, and 'Z' is 25.  \n",
    "Add the specified number to each to receive 25, 26, and 27 respectively.  \n",
    "26 and 27 no longer fall in the range of alphabet numbers, so we need to \"wrap\" them around.  \n",
    "  Subtract 26 from 26 and 27 to receive 0 and 1.\n",
    "The final list of numbers is 25, 0, and 1.  \n",
    "Converting back to letters from numbers: 25 is 'Z', 0 is 'A', and 1 is 'B'.  \n",
    "\n",
    "You may find these functions helpful:  \n",
    "chr() converts a Unicode integer value to a character (i.e. a letter).  \n",
    "  e.g. chr(65) -> 'A'  \n",
    "ord() converts a character (i.e. a letter) to its Unicode integer value.  \n",
    "  e.g. ord('A') -> 65\n",
    "\n",
    "For your convenience:\n",
    "1. The message is composed entirely of capital letters. There will be no spaces or lower case letters.\n",
    "2. The shift number will be between 0 and 25.\n",
    "3. The alphabet is mapped such that A is 0 and Z is 25."
   ]
  },
  {
   "cell_type": "code",
   "execution_count": 36,
   "metadata": {
    "scrolled": true
   },
   "outputs": [
    {
     "name": "stdout",
     "output_type": "stream",
     "text": [
      "Enter message:XYZ\n",
      "Enter shift:2\n",
      "ZAB\n"
     ]
    }
   ],
   "source": [
    "# GRADED FUNCTION\n",
    "def caesar_encrypt(message, shift):\n",
    "    alphabet = ['A', 'B','C','D','E','F','G','H','I','J','K','L','M','N','O','P','Q','R','S','T','U','V','W','X','Y','Z']\n",
    "    encrypt_number = 0\n",
    "    output = \"\"\n",
    "    for counter in range(0,len(message)):\n",
    "        alphabet_number = alphabet.index(message[counter])\n",
    "        encrypt_number = alphabet_number + shift\n",
    "        \n",
    "        if(encrypt_number >= 26):\n",
    "            adjusted_encrypt = encrypt_number % 26 \n",
    "            encrypt_number = adjusted_encrypt\n",
    "            \n",
    "            \n",
    "        output = output + alphabet[encrypt_number]\n",
    "    return output\n",
    "\n",
    "message= input(\"Enter message:\")\n",
    "shift= int(input(\"Enter shift:\"))\n",
    "print(caesar_encrypt(message,shift))"
   ]
  },
  {
   "cell_type": "markdown",
   "metadata": {},
   "source": [
    "# 3\n",
    "# Vigenere Cipher\n",
    "## 4 points\n",
    "\n",
    "(str, str) -> str\n",
    "    \n",
    "This function encrypts a message using the Vigenere cipher method.\n",
    "\n",
    "The Vigenere cipher is an extension of the Caesar cipher method.\n",
    "Instead of using a uniform number, the Vigenere cipher uses a keyword to shift letters.\n",
    "\n",
    "Example:\n",
    "\n",
    "vigenere_encrypt('ABC', 'KEY') -> 'KFA'\n",
    "\n",
    "First, convert the message and the key to numbers.  \n",
    "'ABC' -> [0, 1, 2]  \n",
    "'KEY' -> [10, 4, 24]  \n",
    "Second, add the respective numbers to each other.  \n",
    "[0, 1, 2] + [10, 4, 24] = [10, 5, 26]  \n",
    "Third, correct the numbers that do not fall within 0-25 by subtracting 26 until they fall within 0-25.  \n",
    "[10, 5, 26] -> [10, 5, 0]  \n",
    "Fourth, convert the numbers back to letters.  \n",
    "[10, 5, 0] -> 'KFA'  \n",
    "\n",
    "For your convenience:\n",
    "1. You are highly encouraged to use your Caesar cipher function from Item 2 in this item.\n",
    "2. You may assume that the key is the same length as the message.\n",
    "\n",
    "Bonus points:\n",
    "1. +2 (with a perfect base function) (all or nothing) if you adjust for the case that the key is \n",
    "  shorter than the message. (e.g. \"MEAMORE\", \"UEDA\" -> \"MEAMORE\", \"UEDAUED\")"
   ]
  },
  {
   "cell_type": "code",
   "execution_count": 23,
   "metadata": {},
   "outputs": [
    {
     "name": "stdout",
     "output_type": "stream",
     "text": [
      "Enter message:MEAMORE\n",
      "Enter keyword:UEDA\n",
      "GIDMIVH\n"
     ]
    }
   ],
   "source": [
    "# GRADED FUNCTION\n",
    "def vigenere_encrypt(message, keyword):\n",
    "    import string\n",
    "    alphabet = list(string.ascii_uppercase)\n",
    "    encrypt_number = 0\n",
    "    output = \"\"\n",
    "    x = 0\n",
    "    list_keyword = list(keyword)\n",
    "    sub_keyword = \"\"\n",
    "\n",
    "    if(len(message)>len(list_keyword)):\n",
    "        while(len(list_keyword)<len(message)):\n",
    "            list_keyword.append(list_keyword[x])\n",
    "            x += 1\n",
    "        for i in range(0,len(list_keyword)):\n",
    "            sub_keyword = sub_keyword + list_keyword[i]  \n",
    "        keyword = sub_keyword\n",
    "    \n",
    "        \n",
    "    for counter in range(0,len(message)):\n",
    "        message_alphabet_number = alphabet.index(message[counter])\n",
    "        keyword_alphabet_number = alphabet.index(keyword[counter])\n",
    "        encrypt_number = message_alphabet_number + keyword_alphabet_number\n",
    "        \n",
    "        if(encrypt_number >= 26):\n",
    "            adjusted_encrypt = encrypt_number % 26 \n",
    "            encrypt_number = adjusted_encrypt\n",
    "            \n",
    "        output = output + alphabet[encrypt_number]\n",
    "        \n",
    "    return output\n",
    "\n",
    "message= input(\"Enter message:\")\n",
    "keyword= input(\"Enter keyword:\")\n",
    "\n",
    "print(vigenere_encrypt(message,keyword))\n",
    "    "
   ]
  },
  {
   "cell_type": "markdown",
   "metadata": {},
   "source": [
    "# 4\n",
    "# Contact Tracing\n",
    "## 7 points\n",
    "\n",
    "This function simulates tracing an infected person and marking people they come into contact with.  \n",
    "\n",
    "### Rules of the Game\n",
    "1. The simulation starts with a single infected person (infected_person).  \n",
    "2. The people in this game \"move\". These movements are represented by strings.\n",
    "3. Each person that an infected person comes into contact with will become infected in the next round.\n",
    "\n",
    "\n",
    "### Conceptual demonstration\n",
    "Initial infected = C  \n",
    "\n",
    "Movements:  \n",
    "'JFHGIABECD'  \n",
    "'GAFJBCDIHE'  \n",
    "'FCGAEBIJDH'  \n",
    "\n",
    "\n",
    "1. In the first round, C is next to E and D. E and D will thus be infected next round.\n",
    "2. In the second round:  \n",
    "    The list of infected: CDE   \n",
    "    C is adjacent to B and D  \n",
    "    D is adjacent to C and I  \n",
    "    E is adjacent to H  \n",
    "    B, I, and H will thus be new infected next round.\n",
    "3. In the third round:  \n",
    "    The list of infected: CDEBIH  \n",
    "    C is adjacent to F and G  \n",
    "    D is adjacent to J and H  \n",
    "    E is adjacent to A and B  \n",
    "    B is adjacent to E and I  \n",
    "    I is adjacent to B and J  \n",
    "    H is adjacent to D  \n",
    "    F, G, J, and A will thus be new infected next round, but there is no next round, so the list of infected for the next round will count as our \"final\" list of infected.\n",
    "4. The final list of infected: CDEBIHFGJA. This is basically every single element. Note that in Python, the final list of infected will look like this:  \n",
    "['C', 'D', 'E', 'B', 'I', 'H', 'F', 'G', 'J', 'A']\n",
    "    \n",
    "### Required\n",
    "Write a function that takes an initial infected person as its first parameter and a list of movements as its second parameter. The function should **return** the final list of infected.  \n",
    "\n",
    "Please note the following:\n",
    "1. Your solution must work for an arbitrary number of movements of an arbitrary number of elements. This means that your code must still work if we change the initial infected person or the movement list.\n",
    "2. There will be no duplicate elements.\n",
    "3. There will only ever be one initial infected person.\n",
    "4. Please **comment** your code. It will help us understand your logic, and it will help you get partial points on this item.\n"
   ]
  },
  {
   "cell_type": "markdown",
   "metadata": {},
   "source": [
    "## Pseudocode:\n",
    "1. There is a list of infected\n",
    "2. Check the each element of infected to each movement\n",
    "3. Append/extend each time is something is less than 1 or greater than 1\n",
    "4. A lot of loops:\n",
    "    a. For the list of infected\n",
    "    b. For the outer elements from movement list\n",
    "    c. What doesn't change/ the condition to stop the loop is when it traverses to all the infected list. \n",
    "5. There should be a restarter every after the loop for list of infected so that it traverses each element in the infected list. "
   ]
  },
  {
   "cell_type": "code",
   "execution_count": 64,
   "metadata": {},
   "outputs": [
    {
     "name": "stdout",
     "output_type": "stream",
     "text": [
      "['C', 'n', 'a', 'T', 'K', 'j', 'q', 'D', 'd', 'R', 'I', 'f', 'W', 'c', 'V', 'p', 'u', 'Y', 'S', 'Z', 'e', 'w', 'z']\n"
     ]
    }
   ],
   "source": [
    "def trace(initial_infected_person, movement_list):\n",
    "    final_list_of_infected = [initial_infected_person]\n",
    "    for counter1 in range(len(movement_list)): #Counter until end of the movement list \n",
    "        series = movement_list[counter1] \n",
    "        counter2 = 0 #intialize to 0 every after the inner loop \n",
    "        for counter2 in range(len(final_list_of_infected)):\n",
    "            infected_checker = final_list_of_infected[counter2]\n",
    "            new_infected_left_position = series.find(infected_checker) - 1 #To get new infected \n",
    "            new_infected_right_position = series.find(infected_checker) + 1 # With respect to the element in the infected list                 \n",
    "            if(new_infected_left_position == -1): #Because -1 index is wrong so we add one so it doesn't add. \n",
    "                new_infected_left_position = new_infected_left_position + 1\n",
    "            new_infected_left = series[new_infected_left_position]\n",
    "            new_infected_right = series[new_infected_right_position]\n",
    "\n",
    "            if(new_infected_left not in final_list_of_infected): #To add element if not in the final list\n",
    "                final_list_of_infected.append(new_infected_left)\n",
    "\n",
    "            if(new_infected_right not in final_list_of_infected):\n",
    "                final_list_of_infected.append(new_infected_right)\n",
    " \n",
    "    return final_list_of_infected\n",
    "\n",
    "\n",
    "sample_initial_infected_person = 'C'\n",
    "sample_movement_list = ['LMcSEDJfZAqbWRUgYeurIdtzKoihOxBmkQjFlpvNwXyPnCasGHVT',\n",
    "                         'ihpSPvorENDadfcyjnqlmgHWxTCKGIUkeOZzMJXYsuAwVbLRQBFt',\n",
    "                         'qepTuMENGwDztARCImQhiJXfnWbcaVvyrLsZjdYKSFBHPoxglOkU']\n",
    "\n",
    "print(trace(sample_initial_infected_person,sample_movement_list))\n",
    "\n"
   ]
  }
 ],
 "metadata": {
  "kernelspec": {
   "display_name": "Python 3",
   "language": "python",
   "name": "python3"
  },
  "language_info": {
   "codemirror_mode": {
    "name": "ipython",
    "version": 3
   },
   "file_extension": ".py",
   "mimetype": "text/x-python",
   "name": "python",
   "nbconvert_exporter": "python",
   "pygments_lexer": "ipython3",
   "version": "3.7.6"
  }
 },
 "nbformat": 4,
 "nbformat_minor": 4
}
